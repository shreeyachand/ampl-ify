{
 "cells": [
  {
   "cell_type": "code",
   "execution_count": 32,
   "id": "38d776eb",
   "metadata": {},
   "outputs": [],
   "source": [
    "import pandas as pd\n",
    "import numpy as np\n",
    "from sklearn.neighbors import NearestNeighbors"
   ]
  },
  {
   "cell_type": "code",
   "execution_count": 33,
   "id": "895551bc",
   "metadata": {
    "scrolled": true
   },
   "outputs": [
    {
     "data": {
      "text/html": [
       "<div>\n",
       "<style scoped>\n",
       "    .dataframe tbody tr th:only-of-type {\n",
       "        vertical-align: middle;\n",
       "    }\n",
       "\n",
       "    .dataframe tbody tr th {\n",
       "        vertical-align: top;\n",
       "    }\n",
       "\n",
       "    .dataframe thead th {\n",
       "        text-align: right;\n",
       "    }\n",
       "</style>\n",
       "<table border=\"1\" class=\"dataframe\">\n",
       "  <thead>\n",
       "    <tr style=\"text-align: right;\">\n",
       "      <th></th>\n",
       "      <th>id</th>\n",
       "      <th>name</th>\n",
       "      <th>popularity</th>\n",
       "      <th>duration_ms</th>\n",
       "      <th>explicit</th>\n",
       "      <th>artists</th>\n",
       "      <th>id_artists</th>\n",
       "      <th>release_date</th>\n",
       "      <th>danceability</th>\n",
       "      <th>energy</th>\n",
       "      <th>key</th>\n",
       "      <th>loudness</th>\n",
       "      <th>mode</th>\n",
       "      <th>speechiness</th>\n",
       "      <th>acousticness</th>\n",
       "      <th>instrumentalness</th>\n",
       "      <th>liveness</th>\n",
       "      <th>valence</th>\n",
       "      <th>tempo</th>\n",
       "      <th>time_signature</th>\n",
       "    </tr>\n",
       "  </thead>\n",
       "  <tbody>\n",
       "    <tr>\n",
       "      <th>0</th>\n",
       "      <td>35iwgR4jXetI318WEWsa1Q</td>\n",
       "      <td>Carve</td>\n",
       "      <td>6</td>\n",
       "      <td>126903</td>\n",
       "      <td>0</td>\n",
       "      <td>['Uli']</td>\n",
       "      <td>['45tIt06XoI0Iio4LBEVpls']</td>\n",
       "      <td>1922-02-22</td>\n",
       "      <td>0.645</td>\n",
       "      <td>0.4450</td>\n",
       "      <td>0</td>\n",
       "      <td>-13.338</td>\n",
       "      <td>1</td>\n",
       "      <td>0.4510</td>\n",
       "      <td>0.674</td>\n",
       "      <td>0.7440</td>\n",
       "      <td>0.151</td>\n",
       "      <td>0.127</td>\n",
       "      <td>104.851</td>\n",
       "      <td>3</td>\n",
       "    </tr>\n",
       "    <tr>\n",
       "      <th>1</th>\n",
       "      <td>021ht4sdgPcrDgSk7JTbKY</td>\n",
       "      <td>Capítulo 2.16 - Banquero Anarquista</td>\n",
       "      <td>0</td>\n",
       "      <td>98200</td>\n",
       "      <td>0</td>\n",
       "      <td>['Fernando Pessoa']</td>\n",
       "      <td>['14jtPCOoNZwquk5wd9DxrY']</td>\n",
       "      <td>1922-06-01</td>\n",
       "      <td>0.695</td>\n",
       "      <td>0.2630</td>\n",
       "      <td>0</td>\n",
       "      <td>-22.136</td>\n",
       "      <td>1</td>\n",
       "      <td>0.9570</td>\n",
       "      <td>0.797</td>\n",
       "      <td>0.0000</td>\n",
       "      <td>0.148</td>\n",
       "      <td>0.655</td>\n",
       "      <td>102.009</td>\n",
       "      <td>1</td>\n",
       "    </tr>\n",
       "    <tr>\n",
       "      <th>2</th>\n",
       "      <td>07A5yehtSnoedViJAZkNnc</td>\n",
       "      <td>Vivo para Quererte - Remasterizado</td>\n",
       "      <td>0</td>\n",
       "      <td>181640</td>\n",
       "      <td>0</td>\n",
       "      <td>['Ignacio Corsini']</td>\n",
       "      <td>['5LiOoJbxVSAMkBS2fUm3X2']</td>\n",
       "      <td>1922-03-21</td>\n",
       "      <td>0.434</td>\n",
       "      <td>0.1770</td>\n",
       "      <td>1</td>\n",
       "      <td>-21.180</td>\n",
       "      <td>1</td>\n",
       "      <td>0.0512</td>\n",
       "      <td>0.994</td>\n",
       "      <td>0.0218</td>\n",
       "      <td>0.212</td>\n",
       "      <td>0.457</td>\n",
       "      <td>130.418</td>\n",
       "      <td>5</td>\n",
       "    </tr>\n",
       "    <tr>\n",
       "      <th>3</th>\n",
       "      <td>08FmqUhxtyLTn6pAh6bk45</td>\n",
       "      <td>El Prisionero - Remasterizado</td>\n",
       "      <td>0</td>\n",
       "      <td>176907</td>\n",
       "      <td>0</td>\n",
       "      <td>['Ignacio Corsini']</td>\n",
       "      <td>['5LiOoJbxVSAMkBS2fUm3X2']</td>\n",
       "      <td>1922-03-21</td>\n",
       "      <td>0.321</td>\n",
       "      <td>0.0946</td>\n",
       "      <td>7</td>\n",
       "      <td>-27.961</td>\n",
       "      <td>1</td>\n",
       "      <td>0.0504</td>\n",
       "      <td>0.995</td>\n",
       "      <td>0.9180</td>\n",
       "      <td>0.104</td>\n",
       "      <td>0.397</td>\n",
       "      <td>169.980</td>\n",
       "      <td>3</td>\n",
       "    </tr>\n",
       "    <tr>\n",
       "      <th>4</th>\n",
       "      <td>08y9GfoqCWfOGsKdwojr5e</td>\n",
       "      <td>Lady of the Evening</td>\n",
       "      <td>0</td>\n",
       "      <td>163080</td>\n",
       "      <td>0</td>\n",
       "      <td>['Dick Haymes']</td>\n",
       "      <td>['3BiJGZsyX9sJchTqcSA7Su']</td>\n",
       "      <td>1922</td>\n",
       "      <td>0.402</td>\n",
       "      <td>0.1580</td>\n",
       "      <td>3</td>\n",
       "      <td>-16.900</td>\n",
       "      <td>0</td>\n",
       "      <td>0.0390</td>\n",
       "      <td>0.989</td>\n",
       "      <td>0.1300</td>\n",
       "      <td>0.311</td>\n",
       "      <td>0.196</td>\n",
       "      <td>103.220</td>\n",
       "      <td>4</td>\n",
       "    </tr>\n",
       "  </tbody>\n",
       "</table>\n",
       "</div>"
      ],
      "text/plain": [
       "                       id                                 name  popularity  \\\n",
       "0  35iwgR4jXetI318WEWsa1Q                                Carve           6   \n",
       "1  021ht4sdgPcrDgSk7JTbKY  Capítulo 2.16 - Banquero Anarquista           0   \n",
       "2  07A5yehtSnoedViJAZkNnc   Vivo para Quererte - Remasterizado           0   \n",
       "3  08FmqUhxtyLTn6pAh6bk45        El Prisionero - Remasterizado           0   \n",
       "4  08y9GfoqCWfOGsKdwojr5e                  Lady of the Evening           0   \n",
       "\n",
       "   duration_ms  explicit              artists                  id_artists  \\\n",
       "0       126903         0              ['Uli']  ['45tIt06XoI0Iio4LBEVpls']   \n",
       "1        98200         0  ['Fernando Pessoa']  ['14jtPCOoNZwquk5wd9DxrY']   \n",
       "2       181640         0  ['Ignacio Corsini']  ['5LiOoJbxVSAMkBS2fUm3X2']   \n",
       "3       176907         0  ['Ignacio Corsini']  ['5LiOoJbxVSAMkBS2fUm3X2']   \n",
       "4       163080         0      ['Dick Haymes']  ['3BiJGZsyX9sJchTqcSA7Su']   \n",
       "\n",
       "  release_date  danceability  energy  key  loudness  mode  speechiness  \\\n",
       "0   1922-02-22         0.645  0.4450    0   -13.338     1       0.4510   \n",
       "1   1922-06-01         0.695  0.2630    0   -22.136     1       0.9570   \n",
       "2   1922-03-21         0.434  0.1770    1   -21.180     1       0.0512   \n",
       "3   1922-03-21         0.321  0.0946    7   -27.961     1       0.0504   \n",
       "4         1922         0.402  0.1580    3   -16.900     0       0.0390   \n",
       "\n",
       "   acousticness  instrumentalness  liveness  valence    tempo  time_signature  \n",
       "0         0.674            0.7440     0.151    0.127  104.851               3  \n",
       "1         0.797            0.0000     0.148    0.655  102.009               1  \n",
       "2         0.994            0.0218     0.212    0.457  130.418               5  \n",
       "3         0.995            0.9180     0.104    0.397  169.980               3  \n",
       "4         0.989            0.1300     0.311    0.196  103.220               4  "
      ]
     },
     "execution_count": 33,
     "metadata": {},
     "output_type": "execute_result"
    }
   ],
   "source": [
    "# the dataset is from https://www.kaggle.com/yamaerenay/spotify-dataset-19212020-160k-tracks?select=tracks.csv\n",
    "df = pd.read_csv('.tracks.csv')\n",
    "df.head()"
   ]
  },
  {
   "cell_type": "code",
   "execution_count": 34,
   "id": "f6fe29c0",
   "metadata": {},
   "outputs": [],
   "source": [
    "df['years_old'] = df['release_date'].apply(lambda x: 2021 - int(x.split('-')[0]))\n",
    "df.drop('release_date', axis=1, inplace=True)"
   ]
  },
  {
   "cell_type": "code",
   "execution_count": 35,
   "id": "0b0569f1",
   "metadata": {},
   "outputs": [],
   "source": [
    "features = ['popularity', 'danceability', 'energy', 'loudness', 'mode', 'speechiness', 'acousticness', 'instrumentalness', 'liveness', 'valence', 'tempo']"
   ]
  },
  {
   "cell_type": "code",
   "execution_count": 36,
   "id": "f273ffa0",
   "metadata": {},
   "outputs": [
    {
     "data": {
      "text/plain": [
       "NearestNeighbors(algorithm='ball_tree', n_neighbors=10)"
      ]
     },
     "execution_count": 36,
     "metadata": {},
     "output_type": "execute_result"
    }
   ],
   "source": [
    "X = df[features]\n",
    "nn = NearestNeighbors(n_neighbors=10,algorithm='ball_tree')\n",
    "nn.fit(X)"
   ]
  },
  {
   "cell_type": "code",
   "execution_count": 37,
   "id": "b53f651d",
   "metadata": {},
   "outputs": [],
   "source": [
    "# For \"testing\" this model, I'm going to use songs from my favorite artists first, then I'll use random ones."
   ]
  },
  {
   "cell_type": "code",
   "execution_count": 38,
   "id": "c5fac858",
   "metadata": {},
   "outputs": [],
   "source": [
    "y = df.loc[81319][features] # YBWM by Taylor Swift (the og version)\n",
    "y = np.array(y).reshape(1, -1)"
   ]
  },
  {
   "cell_type": "code",
   "execution_count": 39,
   "id": "e9a45e56",
   "metadata": {
    "scrolled": true
   },
   "outputs": [
    {
     "data": {
      "text/plain": [
       "(array([array([0.89967786, 0.        , 0.46636364])], dtype=object),\n",
       " array([array([132266,  81319,  85145])], dtype=object))"
      ]
     },
     "execution_count": 39,
     "metadata": {},
     "output_type": "execute_result"
    }
   ],
   "source": [
    "distances, indexes = nn.radius_neighbors(y, 1) # within a radius of 2 units\n",
    "distances, indexes"
   ]
  },
  {
   "cell_type": "code",
   "execution_count": 40,
   "id": "96caf5ec",
   "metadata": {},
   "outputs": [
    {
     "name": "stdout",
     "output_type": "stream",
     "text": [
      "132266             Long Live\n",
      "81319     You Belong With Me\n",
      "85145             Part Of Me\n",
      "Name: name, dtype: object\n"
     ]
    }
   ],
   "source": [
    "for i, dist in enumerate(distances):\n",
    "    print(df['name'].loc[indexes[i]])"
   ]
  },
  {
   "cell_type": "code",
   "execution_count": 41,
   "id": "4aae323f",
   "metadata": {},
   "outputs": [
    {
     "name": "stdout",
     "output_type": "stream",
     "text": [
      "94080                                           Solo\n",
      "93390                                       La Mitad\n",
      "91077                                Te Boté - Remix\n",
      "93322                                     Borderline\n",
      "94032    Only Wanna Be With You - Pokémon 25 Version\n",
      "Name: name, dtype: object\n"
     ]
    }
   ],
   "source": [
    "y2 = df.loc[93322][features] # Borderline by Tame Impala\n",
    "y2 = np.array(y2).reshape(1, -1)\n",
    "d, i = nn.radius_neighbors(y2, 2)\n",
    "for j, dist in enumerate(d):\n",
    "    print(df['name'].loc[i[j]])"
   ]
  },
  {
   "cell_type": "code",
   "execution_count": 42,
   "id": "8911dce6",
   "metadata": {},
   "outputs": [
    {
     "data": {
      "text/plain": [
       "(array([array([0.94898631, 0.67840822, 0.        ])], dtype=object),\n",
       " array([array([471615, 365372, 192047])], dtype=object))"
      ]
     },
     "execution_count": 42,
     "metadata": {},
     "output_type": "execute_result"
    }
   ],
   "source": [
    "y = df.loc[192047][features] #  random\n",
    "y = np.array(y).reshape(1, -1)\n",
    "distances, indexes = nn.radius_neighbors(y, 1)\n",
    "distances, indexes"
   ]
  },
  {
   "cell_type": "code",
   "execution_count": 43,
   "id": "0a2b7511",
   "metadata": {},
   "outputs": [
    {
     "data": {
      "text/plain": [
       "('İntizar', 'El Negrito Ñengere')"
      ]
     },
     "execution_count": 43,
     "metadata": {},
     "output_type": "execute_result"
    }
   ],
   "source": [
    "df['name'].loc[365372], df['name'].loc[192047]"
   ]
  },
  {
   "cell_type": "code",
   "execution_count": 44,
   "id": "fb7fb9b4",
   "metadata": {},
   "outputs": [
    {
     "data": {
      "text/plain": [
       "(array([array([0.9261112, 0.9415847, 0.       ])], dtype=object),\n",
       " array([array([138141, 354763,  77777])], dtype=object))"
      ]
     },
     "execution_count": 44,
     "metadata": {},
     "output_type": "execute_result"
    }
   ],
   "source": [
    "# The last two sounded fairly similar, both very instrumental\n",
    "y = df.loc[77777][features] #  random\n",
    "y = np.array(y).reshape(1, -1)\n",
    "distances, indexes = nn.radius_neighbors(y, 1)\n",
    "distances, indexes"
   ]
  },
  {
   "cell_type": "code",
   "execution_count": 45,
   "id": "9700bf36",
   "metadata": {},
   "outputs": [
    {
     "data": {
      "text/plain": [
       "('Never Too Late - Live at Buxton Opera House, 2004',\n",
       " 'Golemiat Chas - The Big Hour')"
      ]
     },
     "execution_count": 45,
     "metadata": {},
     "output_type": "execute_result"
    }
   ],
   "source": [
    "df['name'].loc[77777], df['name'].loc[354763]"
   ]
  },
  {
   "cell_type": "code",
   "execution_count": 46,
   "id": "feaca35b",
   "metadata": {},
   "outputs": [
    {
     "data": {
      "text/plain": [
       "(array([array([0.9664188 , 0.92794688, 0.57507739, 0.63525957, 0.91583807,\n",
       "               0.        , 0.43182715])                                   ],\n",
       "       dtype=object),\n",
       " array([array([146855, 574560, 377640, 528245, 217004,  41820, 274594])],\n",
       "       dtype=object))"
      ]
     },
     "execution_count": 46,
     "metadata": {},
     "output_type": "execute_result"
    }
   ],
   "source": [
    "# The last two sounded fairly similar, both very instrumental\n",
    "y = df.loc[41820][features] #  random\n",
    "y = np.array(y).reshape(1, -1)\n",
    "distances, indexes = nn.radius_neighbors(y, 1)\n",
    "distances, indexes"
   ]
  },
  {
   "cell_type": "code",
   "execution_count": 47,
   "id": "c5b2a7c5",
   "metadata": {},
   "outputs": [
    {
     "data": {
      "text/plain": [
       "(id                                 608HuKHFh2N62z3Ja5vxXj\n",
       " name                I Love You More Than You'll Ever Know\n",
       " popularity                                             43\n",
       " duration_ms                                        356893\n",
       " explicit                                                0\n",
       " artists                          ['Blood, Sweat & Tears']\n",
       " id_artists                     ['24GaH9tRBgZjlvOhpFuKi2']\n",
       " danceability                                        0.456\n",
       " energy                                              0.391\n",
       " key                                                     0\n",
       " loudness                                           -9.687\n",
       " mode                                                    0\n",
       " speechiness                                        0.0419\n",
       " acousticness                                        0.665\n",
       " instrumentalness                                  0.00008\n",
       " liveness                                            0.209\n",
       " valence                                             0.411\n",
       " tempo                                              133.95\n",
       " time_signature                                          3\n",
       " years_old                                              53\n",
       " Name: 41820, dtype: object,\n",
       " id                      3cM7VOvQO9HkD0KdwvIn2Q\n",
       " name                            Tunay Na Mahal\n",
       " popularity                                  43\n",
       " duration_ms                             262453\n",
       " explicit                                     0\n",
       " artists                     ['Lani Misalucha']\n",
       " id_artists          ['29Aqsp33ANrcidwOkNJJU6']\n",
       " danceability                             0.555\n",
       " energy                                   0.385\n",
       " key                                         11\n",
       " loudness                                 -9.47\n",
       " mode                                         0\n",
       " speechiness                             0.0317\n",
       " acousticness                              0.49\n",
       " instrumentalness                           0.0\n",
       " liveness                                0.0832\n",
       " valence                                  0.146\n",
       " tempo                                  134.063\n",
       " time_signature                               4\n",
       " years_old                                   19\n",
       " Name: 274594, dtype: object)"
      ]
     },
     "execution_count": 47,
     "metadata": {},
     "output_type": "execute_result"
    }
   ],
   "source": [
    "df.loc[41820], df.loc[274594]"
   ]
  },
  {
   "cell_type": "code",
   "execution_count": 48,
   "id": "69c1ec02",
   "metadata": {},
   "outputs": [
    {
     "data": {
      "text/plain": [
       "(array([array([0.        , 0.88651311])], dtype=object),\n",
       " array([array([327690, 457396])], dtype=object))"
      ]
     },
     "execution_count": 48,
     "metadata": {},
     "output_type": "execute_result"
    }
   ],
   "source": [
    "y = df.loc[327690][features] #  random\n",
    "y = np.array(y).reshape(1, -1)\n",
    "distances, indexes = nn.radius_neighbors(y, 1)\n",
    "distances, indexes"
   ]
  },
  {
   "cell_type": "code",
   "execution_count": 49,
   "id": "c968daaa",
   "metadata": {},
   "outputs": [
    {
     "data": {
      "text/plain": [
       "('วัยหวาน', 'La Machine')"
      ]
     },
     "execution_count": 49,
     "metadata": {},
     "output_type": "execute_result"
    }
   ],
   "source": [
    "df['name'].loc[327690], df['name'].loc[457396]"
   ]
  },
  {
   "cell_type": "markdown",
   "id": "45da9f33",
   "metadata": {},
   "source": [
    "## Exporting the model"
   ]
  },
  {
   "cell_type": "code",
   "execution_count": 53,
   "id": "b87c70ff",
   "metadata": {},
   "outputs": [],
   "source": [
    "import pickle"
   ]
  },
  {
   "cell_type": "code",
   "execution_count": 54,
   "id": "837cc346",
   "metadata": {},
   "outputs": [],
   "source": [
    "pickle.dump(nn, open('nnmodel.pkl', 'wb'))"
   ]
  },
  {
   "cell_type": "code",
   "execution_count": null,
   "id": "f2a8e77e",
   "metadata": {},
   "outputs": [],
   "source": [
    "loaded_model = pickle.load(open('nnmodel.pkl', 'rb'))"
   ]
  },
  {
   "cell_type": "code",
   "execution_count": null,
   "id": "9e45d78f",
   "metadata": {},
   "outputs": [],
   "source": [
    "loaded_model.radius_neighbors(y, 1)"
   ]
  },
  {
   "cell_type": "code",
   "execution_count": null,
   "id": "1ee907b2",
   "metadata": {},
   "outputs": [],
   "source": [
    "# it works!"
   ]
  },
  {
   "cell_type": "code",
   "execution_count": null,
   "id": "86ea25d0",
   "metadata": {},
   "outputs": [],
   "source": []
  }
 ],
 "metadata": {
  "kernelspec": {
   "display_name": "Python 3 (ipykernel)",
   "language": "python",
   "name": "python3"
  },
  "language_info": {
   "codemirror_mode": {
    "name": "ipython",
    "version": 3
   },
   "file_extension": ".py",
   "mimetype": "text/x-python",
   "name": "python",
   "nbconvert_exporter": "python",
   "pygments_lexer": "ipython3",
   "version": "3.9.2"
  }
 },
 "nbformat": 4,
 "nbformat_minor": 5
}
