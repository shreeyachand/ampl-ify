{
 "cells": [
  {
   "cell_type": "markdown",
   "id": "493289c3",
   "metadata": {
    "deletable": false,
    "editable": false
   },
   "source": [
    "## Part 1: Cleaning Data"
   ]
  },
  {
   "cell_type": "code",
   "execution_count": 1,
   "id": "38d776eb",
   "metadata": {
    "deletable": false,
    "editable": false
   },
   "outputs": [],
   "source": [
    "import pandas as pd\n",
    "import numpy as np\n",
    "from sklearn.neighbors import NearestNeighbors"
   ]
  },
  {
   "cell_type": "code",
   "execution_count": 2,
   "id": "895551bc",
   "metadata": {
    "deletable": false,
    "editable": false,
    "scrolled": true
   },
   "outputs": [
    {
     "data": {
      "text/html": [
       "<div>\n",
       "<style scoped>\n",
       "    .dataframe tbody tr th:only-of-type {\n",
       "        vertical-align: middle;\n",
       "    }\n",
       "\n",
       "    .dataframe tbody tr th {\n",
       "        vertical-align: top;\n",
       "    }\n",
       "\n",
       "    .dataframe thead th {\n",
       "        text-align: right;\n",
       "    }\n",
       "</style>\n",
       "<table border=\"1\" class=\"dataframe\">\n",
       "  <thead>\n",
       "    <tr style=\"text-align: right;\">\n",
       "      <th></th>\n",
       "      <th>id</th>\n",
       "      <th>name</th>\n",
       "      <th>popularity</th>\n",
       "      <th>duration_ms</th>\n",
       "      <th>explicit</th>\n",
       "      <th>artists</th>\n",
       "      <th>id_artists</th>\n",
       "      <th>release_date</th>\n",
       "      <th>danceability</th>\n",
       "      <th>energy</th>\n",
       "      <th>key</th>\n",
       "      <th>loudness</th>\n",
       "      <th>mode</th>\n",
       "      <th>speechiness</th>\n",
       "      <th>acousticness</th>\n",
       "      <th>instrumentalness</th>\n",
       "      <th>liveness</th>\n",
       "      <th>valence</th>\n",
       "      <th>tempo</th>\n",
       "      <th>time_signature</th>\n",
       "    </tr>\n",
       "  </thead>\n",
       "  <tbody>\n",
       "    <tr>\n",
       "      <th>0</th>\n",
       "      <td>35iwgR4jXetI318WEWsa1Q</td>\n",
       "      <td>Carve</td>\n",
       "      <td>6</td>\n",
       "      <td>126903</td>\n",
       "      <td>0</td>\n",
       "      <td>['Uli']</td>\n",
       "      <td>['45tIt06XoI0Iio4LBEVpls']</td>\n",
       "      <td>1922-02-22</td>\n",
       "      <td>0.645</td>\n",
       "      <td>0.4450</td>\n",
       "      <td>0</td>\n",
       "      <td>-13.338</td>\n",
       "      <td>1</td>\n",
       "      <td>0.4510</td>\n",
       "      <td>0.674</td>\n",
       "      <td>0.7440</td>\n",
       "      <td>0.151</td>\n",
       "      <td>0.127</td>\n",
       "      <td>104.851</td>\n",
       "      <td>3</td>\n",
       "    </tr>\n",
       "    <tr>\n",
       "      <th>1</th>\n",
       "      <td>021ht4sdgPcrDgSk7JTbKY</td>\n",
       "      <td>Capítulo 2.16 - Banquero Anarquista</td>\n",
       "      <td>0</td>\n",
       "      <td>98200</td>\n",
       "      <td>0</td>\n",
       "      <td>['Fernando Pessoa']</td>\n",
       "      <td>['14jtPCOoNZwquk5wd9DxrY']</td>\n",
       "      <td>1922-06-01</td>\n",
       "      <td>0.695</td>\n",
       "      <td>0.2630</td>\n",
       "      <td>0</td>\n",
       "      <td>-22.136</td>\n",
       "      <td>1</td>\n",
       "      <td>0.9570</td>\n",
       "      <td>0.797</td>\n",
       "      <td>0.0000</td>\n",
       "      <td>0.148</td>\n",
       "      <td>0.655</td>\n",
       "      <td>102.009</td>\n",
       "      <td>1</td>\n",
       "    </tr>\n",
       "    <tr>\n",
       "      <th>2</th>\n",
       "      <td>07A5yehtSnoedViJAZkNnc</td>\n",
       "      <td>Vivo para Quererte - Remasterizado</td>\n",
       "      <td>0</td>\n",
       "      <td>181640</td>\n",
       "      <td>0</td>\n",
       "      <td>['Ignacio Corsini']</td>\n",
       "      <td>['5LiOoJbxVSAMkBS2fUm3X2']</td>\n",
       "      <td>1922-03-21</td>\n",
       "      <td>0.434</td>\n",
       "      <td>0.1770</td>\n",
       "      <td>1</td>\n",
       "      <td>-21.180</td>\n",
       "      <td>1</td>\n",
       "      <td>0.0512</td>\n",
       "      <td>0.994</td>\n",
       "      <td>0.0218</td>\n",
       "      <td>0.212</td>\n",
       "      <td>0.457</td>\n",
       "      <td>130.418</td>\n",
       "      <td>5</td>\n",
       "    </tr>\n",
       "    <tr>\n",
       "      <th>3</th>\n",
       "      <td>08FmqUhxtyLTn6pAh6bk45</td>\n",
       "      <td>El Prisionero - Remasterizado</td>\n",
       "      <td>0</td>\n",
       "      <td>176907</td>\n",
       "      <td>0</td>\n",
       "      <td>['Ignacio Corsini']</td>\n",
       "      <td>['5LiOoJbxVSAMkBS2fUm3X2']</td>\n",
       "      <td>1922-03-21</td>\n",
       "      <td>0.321</td>\n",
       "      <td>0.0946</td>\n",
       "      <td>7</td>\n",
       "      <td>-27.961</td>\n",
       "      <td>1</td>\n",
       "      <td>0.0504</td>\n",
       "      <td>0.995</td>\n",
       "      <td>0.9180</td>\n",
       "      <td>0.104</td>\n",
       "      <td>0.397</td>\n",
       "      <td>169.980</td>\n",
       "      <td>3</td>\n",
       "    </tr>\n",
       "    <tr>\n",
       "      <th>4</th>\n",
       "      <td>08y9GfoqCWfOGsKdwojr5e</td>\n",
       "      <td>Lady of the Evening</td>\n",
       "      <td>0</td>\n",
       "      <td>163080</td>\n",
       "      <td>0</td>\n",
       "      <td>['Dick Haymes']</td>\n",
       "      <td>['3BiJGZsyX9sJchTqcSA7Su']</td>\n",
       "      <td>1922</td>\n",
       "      <td>0.402</td>\n",
       "      <td>0.1580</td>\n",
       "      <td>3</td>\n",
       "      <td>-16.900</td>\n",
       "      <td>0</td>\n",
       "      <td>0.0390</td>\n",
       "      <td>0.989</td>\n",
       "      <td>0.1300</td>\n",
       "      <td>0.311</td>\n",
       "      <td>0.196</td>\n",
       "      <td>103.220</td>\n",
       "      <td>4</td>\n",
       "    </tr>\n",
       "  </tbody>\n",
       "</table>\n",
       "</div>"
      ],
      "text/plain": [
       "                       id                                 name  popularity  \\\n",
       "0  35iwgR4jXetI318WEWsa1Q                                Carve           6   \n",
       "1  021ht4sdgPcrDgSk7JTbKY  Capítulo 2.16 - Banquero Anarquista           0   \n",
       "2  07A5yehtSnoedViJAZkNnc   Vivo para Quererte - Remasterizado           0   \n",
       "3  08FmqUhxtyLTn6pAh6bk45        El Prisionero - Remasterizado           0   \n",
       "4  08y9GfoqCWfOGsKdwojr5e                  Lady of the Evening           0   \n",
       "\n",
       "   duration_ms  explicit              artists                  id_artists  \\\n",
       "0       126903         0              ['Uli']  ['45tIt06XoI0Iio4LBEVpls']   \n",
       "1        98200         0  ['Fernando Pessoa']  ['14jtPCOoNZwquk5wd9DxrY']   \n",
       "2       181640         0  ['Ignacio Corsini']  ['5LiOoJbxVSAMkBS2fUm3X2']   \n",
       "3       176907         0  ['Ignacio Corsini']  ['5LiOoJbxVSAMkBS2fUm3X2']   \n",
       "4       163080         0      ['Dick Haymes']  ['3BiJGZsyX9sJchTqcSA7Su']   \n",
       "\n",
       "  release_date  danceability  energy  key  loudness  mode  speechiness  \\\n",
       "0   1922-02-22         0.645  0.4450    0   -13.338     1       0.4510   \n",
       "1   1922-06-01         0.695  0.2630    0   -22.136     1       0.9570   \n",
       "2   1922-03-21         0.434  0.1770    1   -21.180     1       0.0512   \n",
       "3   1922-03-21         0.321  0.0946    7   -27.961     1       0.0504   \n",
       "4         1922         0.402  0.1580    3   -16.900     0       0.0390   \n",
       "\n",
       "   acousticness  instrumentalness  liveness  valence    tempo  time_signature  \n",
       "0         0.674            0.7440     0.151    0.127  104.851               3  \n",
       "1         0.797            0.0000     0.148    0.655  102.009               1  \n",
       "2         0.994            0.0218     0.212    0.457  130.418               5  \n",
       "3         0.995            0.9180     0.104    0.397  169.980               3  \n",
       "4         0.989            0.1300     0.311    0.196  103.220               4  "
      ]
     },
     "execution_count": 2,
     "metadata": {},
     "output_type": "execute_result"
    }
   ],
   "source": [
    "# the dataset is from https://www.kaggle.com/yamaerenay/spotify-dataset-19212020-160k-tracks?select=tracks.csv\n",
    "df = pd.read_csv('./tracks.csv')\n",
    "df.head()"
   ]
  },
  {
   "cell_type": "code",
   "execution_count": 3,
   "id": "f6fe29c0",
   "metadata": {
    "deletable": false,
    "editable": false
   },
   "outputs": [],
   "source": [
    "df['years_old'] = df['release_date'].apply(lambda x: 2021 - int(x.split('-')[0]))\n",
    "df.drop(['duration_ms', 'id_artists', 'release_date'], axis=1, inplace=True)\n",
    "df.drop('name', axis=1).to_csv('./tracks_clean.csv')"
   ]
  },
  {
   "cell_type": "code",
   "execution_count": 4,
   "id": "0b0569f1",
   "metadata": {
    "deletable": false,
    "editable": false
   },
   "outputs": [],
   "source": [
    "features = ['popularity', 'danceability', 'energy', 'loudness', 'mode', 'speechiness', 'acousticness', 'instrumentalness', 'liveness', 'valence', 'tempo']"
   ]
  },
  {
   "cell_type": "code",
   "execution_count": 5,
   "id": "f273ffa0",
   "metadata": {
    "deletable": false,
    "editable": false
   },
   "outputs": [
    {
     "data": {
      "text/plain": [
       "NearestNeighbors(algorithm='ball_tree', n_neighbors=10)"
      ]
     },
     "execution_count": 5,
     "metadata": {},
     "output_type": "execute_result"
    }
   ],
   "source": [
    "X = df[features]\n",
    "nn = NearestNeighbors(n_neighbors=10,algorithm='ball_tree')\n",
    "nn.fit(X)"
   ]
  },
  {
   "cell_type": "markdown",
   "id": "eb972a33",
   "metadata": {
    "deletable": false,
    "editable": false
   },
   "source": [
    "## Part 2: \"Testing\""
   ]
  },
  {
   "cell_type": "code",
   "execution_count": 6,
   "id": "c5fac858",
   "metadata": {
    "deletable": false,
    "editable": false
   },
   "outputs": [],
   "source": [
    "y = df.loc[81319][features] # YBWM by Taylor Swift (the og version)\n",
    "y = np.array(y).reshape(1, -1)"
   ]
  },
  {
   "cell_type": "code",
   "execution_count": 7,
   "id": "e9a45e56",
   "metadata": {
    "deletable": false,
    "editable": false,
    "scrolled": true
   },
   "outputs": [
    {
     "data": {
      "text/plain": [
       "(array([array([0.89967786, 0.        , 0.46636364])], dtype=object),\n",
       " array([array([132266,  81319,  85145])], dtype=object))"
      ]
     },
     "execution_count": 7,
     "metadata": {},
     "output_type": "execute_result"
    }
   ],
   "source": [
    "distances, indexes = nn.radius_neighbors(y, 1) # within a radius of 1 unit\n",
    "distances, indexes"
   ]
  },
  {
   "cell_type": "code",
   "execution_count": 8,
   "id": "96caf5ec",
   "metadata": {
    "deletable": false,
    "editable": false
   },
   "outputs": [
    {
     "name": "stdout",
     "output_type": "stream",
     "text": [
      "132266             Long Live\n",
      "81319     You Belong With Me\n",
      "85145             Part Of Me\n",
      "Name: name, dtype: object\n"
     ]
    }
   ],
   "source": [
    "for i, dist in enumerate(distances):\n",
    "    print(df['name'].loc[indexes[i]])"
   ]
  },
  {
   "cell_type": "code",
   "execution_count": 9,
   "id": "4aae323f",
   "metadata": {
    "deletable": false,
    "editable": false
   },
   "outputs": [
    {
     "name": "stdout",
     "output_type": "stream",
     "text": [
      "94080                                           Solo\n",
      "93390                                       La Mitad\n",
      "91077                                Te Boté - Remix\n",
      "93322                                     Borderline\n",
      "94032    Only Wanna Be With You - Pokémon 25 Version\n",
      "Name: name, dtype: object\n"
     ]
    }
   ],
   "source": [
    "y2 = df.loc[93322][features] # Borderline by Tame Impala\n",
    "y2 = np.array(y2).reshape(1, -1)\n",
    "d, i = nn.radius_neighbors(y2, 2)\n",
    "for j, dist in enumerate(d):\n",
    "    print(df['name'].loc[i[j]])"
   ]
  },
  {
   "cell_type": "code",
   "execution_count": 10,
   "id": "8911dce6",
   "metadata": {
    "deletable": false,
    "editable": false
   },
   "outputs": [
    {
     "data": {
      "text/plain": [
       "(array([array([0.94898631, 0.67840822, 0.        ])], dtype=object),\n",
       " array([array([471615, 365372, 192047])], dtype=object))"
      ]
     },
     "execution_count": 10,
     "metadata": {},
     "output_type": "execute_result"
    }
   ],
   "source": [
    "y = df.loc[192047][features] #  random\n",
    "y = np.array(y).reshape(1, -1)\n",
    "distances, indexes = nn.radius_neighbors(y, 1)\n",
    "distances, indexes"
   ]
  },
  {
   "cell_type": "code",
   "execution_count": 11,
   "id": "0a2b7511",
   "metadata": {},
   "outputs": [
    {
     "data": {
      "text/plain": [
       "('İntizar', 'El Negrito Ñengere')"
      ]
     },
     "execution_count": 11,
     "metadata": {},
     "output_type": "execute_result"
    }
   ],
   "source": [
    "df['name'].loc[365372], df['name'].loc[192047]"
   ]
  },
  {
   "cell_type": "code",
   "execution_count": 12,
   "id": "fb7fb9b4",
   "metadata": {},
   "outputs": [
    {
     "data": {
      "text/plain": [
       "(array([array([0.9261112, 0.9415847, 0.       ])], dtype=object),\n",
       " array([array([138141, 354763,  77777])], dtype=object))"
      ]
     },
     "execution_count": 12,
     "metadata": {},
     "output_type": "execute_result"
    }
   ],
   "source": [
    "# The last two sounded fairly similar, both very instrumental\n",
    "y = df.loc[77777][features] #  random\n",
    "y = np.array(y).reshape(1, -1)\n",
    "distances, indexes = nn.radius_neighbors(y, 1)\n",
    "distances, indexes"
   ]
  },
  {
   "cell_type": "code",
   "execution_count": 13,
   "id": "9700bf36",
   "metadata": {
    "deletable": false,
    "editable": false
   },
   "outputs": [
    {
     "data": {
      "text/plain": [
       "('Never Too Late - Live at Buxton Opera House, 2004',\n",
       " 'Golemiat Chas - The Big Hour')"
      ]
     },
     "execution_count": 13,
     "metadata": {},
     "output_type": "execute_result"
    }
   ],
   "source": [
    "df['name'].loc[77777], df['name'].loc[354763]"
   ]
  },
  {
   "cell_type": "code",
   "execution_count": 14,
   "id": "feaca35b",
   "metadata": {},
   "outputs": [
    {
     "data": {
      "text/plain": [
       "(array([array([0.9664188 , 0.92794688, 0.57507739, 0.63525957, 0.91583807,\n",
       "               0.        , 0.43182715])                                   ],\n",
       "       dtype=object),\n",
       " array([array([146855, 574560, 377640, 528245, 217004,  41820, 274594])],\n",
       "       dtype=object))"
      ]
     },
     "execution_count": 14,
     "metadata": {},
     "output_type": "execute_result"
    }
   ],
   "source": [
    "y = df.loc[41820][features] #  random\n",
    "y = np.array(y).reshape(1, -1)\n",
    "distances, indexes = nn.radius_neighbors(y, 1)\n",
    "distances, indexes"
   ]
  },
  {
   "cell_type": "code",
   "execution_count": 15,
   "id": "c5b2a7c5",
   "metadata": {
    "deletable": false,
    "editable": false
   },
   "outputs": [
    {
     "data": {
      "text/plain": [
       "(id                                 608HuKHFh2N62z3Ja5vxXj\n",
       " name                I Love You More Than You'll Ever Know\n",
       " popularity                                             43\n",
       " explicit                                                0\n",
       " artists                          ['Blood, Sweat & Tears']\n",
       " danceability                                        0.456\n",
       " energy                                              0.391\n",
       " key                                                     0\n",
       " loudness                                           -9.687\n",
       " mode                                                    0\n",
       " speechiness                                        0.0419\n",
       " acousticness                                        0.665\n",
       " instrumentalness                                  0.00008\n",
       " liveness                                            0.209\n",
       " valence                                             0.411\n",
       " tempo                                              133.95\n",
       " time_signature                                          3\n",
       " years_old                                              53\n",
       " Name: 41820, dtype: object,\n",
       " id                  3cM7VOvQO9HkD0KdwvIn2Q\n",
       " name                        Tunay Na Mahal\n",
       " popularity                              43\n",
       " explicit                                 0\n",
       " artists                 ['Lani Misalucha']\n",
       " danceability                         0.555\n",
       " energy                               0.385\n",
       " key                                     11\n",
       " loudness                             -9.47\n",
       " mode                                     0\n",
       " speechiness                         0.0317\n",
       " acousticness                          0.49\n",
       " instrumentalness                       0.0\n",
       " liveness                            0.0832\n",
       " valence                              0.146\n",
       " tempo                              134.063\n",
       " time_signature                           4\n",
       " years_old                               19\n",
       " Name: 274594, dtype: object)"
      ]
     },
     "execution_count": 15,
     "metadata": {},
     "output_type": "execute_result"
    }
   ],
   "source": [
    "df.loc[41820], df.loc[274594]"
   ]
  },
  {
   "cell_type": "code",
   "execution_count": 16,
   "id": "69c1ec02",
   "metadata": {
    "deletable": false,
    "editable": false
   },
   "outputs": [
    {
     "data": {
      "text/plain": [
       "(array([array([0.        , 0.88651311])], dtype=object),\n",
       " array([array([327690, 457396])], dtype=object))"
      ]
     },
     "execution_count": 16,
     "metadata": {},
     "output_type": "execute_result"
    }
   ],
   "source": [
    "y = df.loc[327690][features] #  random\n",
    "y = np.array(y).reshape(1, -1)\n",
    "distances, indexes = nn.radius_neighbors(y, 1)\n",
    "distances, indexes"
   ]
  },
  {
   "cell_type": "code",
   "execution_count": 17,
   "id": "c968daaa",
   "metadata": {
    "deletable": false,
    "editable": false
   },
   "outputs": [
    {
     "data": {
      "text/plain": [
       "('วัยหวาน', 'La Machine')"
      ]
     },
     "execution_count": 17,
     "metadata": {},
     "output_type": "execute_result"
    }
   ],
   "source": [
    "df['name'].loc[327690], df['name'].loc[457396]\n",
    "# these sound VERY similar"
   ]
  },
  {
   "cell_type": "markdown",
   "id": "7ace4415",
   "metadata": {},
   "source": [
    "## Part 3: One-Hot Encoding Categorical Features (Coming Soon)"
   ]
  },
  {
   "cell_type": "code",
   "execution_count": null,
   "id": "7a4b1488",
   "metadata": {
    "deletable": false,
    "editable": false,
    "scrolled": false
   },
   "outputs": [],
   "source": [
    "df"
   ]
  },
  {
   "cell_type": "code",
   "execution_count": null,
   "id": "aff39d1a",
   "metadata": {
    "deletable": false,
    "editable": false
   },
   "outputs": [],
   "source": [
    "def get_artists(val):\n",
    "    with_str = val.strip(\"[]\").split(\", \")\n",
    "    new_vals = []\n",
    "    for artist in with_str:\n",
    "        new_vals.append(artist.strip(\"''\"))\n",
    "    return new_vals\n",
    "\n",
    "get_artists(\"['Gentle Bones', 'Clara Benin']\")"
   ]
  },
  {
   "cell_type": "code",
   "execution_count": null,
   "id": "226129d0",
   "metadata": {
    "deletable": false,
    "editable": false
   },
   "outputs": [],
   "source": [
    "df['artists'] = df['artists'].apply(get_artists)"
   ]
  },
  {
   "cell_type": "code",
   "execution_count": null,
   "id": "dfe10440",
   "metadata": {
    "deletable": false,
    "editable": false
   },
   "outputs": [],
   "source": [
    "v = df.artists.values\n",
    "l = [len(x) for x in v.tolist()]\n",
    "f, u = pd.factorize(np.concatenate(v))\n",
    "n, m = len(v), u.size\n",
    "i = np.arange(n).repeat(l)\n",
    "\n",
    "dummied = pd.concat([pd.DataFrame(\n",
    "    np.bincount(i * m + f, minlength=n * m).reshape(n, m),\n",
    "    df.index, u\n",
    "), df[features]])"
   ]
  },
  {
   "cell_type": "code",
   "execution_count": null,
   "id": "51c4b1a0",
   "metadata": {
    "deletable": false,
    "editable": false,
    "scrolled": true
   },
   "outputs": [],
   "source": [
    "for column in df:\n",
    "    if column in df.select_dtypes(include=['int64']).copy():\n",
    "        if np.allclose(df[column], df[column].astype('int8')):\n",
    "            df[column] = df[column].astype('int8')\n",
    "        elif np.allclose(df[column], df[column].astype('int16')):\n",
    "            df[column] = df[column].astype('int16')\n",
    "        elif np.allclose(df[column], df[column].astype('int32')):\n",
    "            df[column] = df[column].astype('int32')\n",
    "    if column in df.select_dtypes(include=['float64']).copy():\n",
    "        if np.allclose(df[column], df[column].astype('float16')):\n",
    "            df[column] = df[column].astype('float16')\n",
    "        elif np.allclose(df[column], df[column].astype('float32')):\n",
    "            df[column] = df[column].astype('float32')"
   ]
  }
 ],
 "metadata": {
  "kernelspec": {
   "display_name": "Python 3 (ipykernel)",
   "language": "python",
   "name": "python3"
  },
  "language_info": {
   "codemirror_mode": {
    "name": "ipython",
    "version": 3
   },
   "file_extension": ".py",
   "mimetype": "text/x-python",
   "name": "python",
   "nbconvert_exporter": "python",
   "pygments_lexer": "ipython3",
   "version": "3.9.2"
  }
 },
 "nbformat": 4,
 "nbformat_minor": 5
}
